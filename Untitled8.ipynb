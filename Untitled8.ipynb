{
  "nbformat": 4,
  "nbformat_minor": 0,
  "metadata": {
    "colab": {
      "provenance": [],
      "authorship_tag": "ABX9TyPLKRY+CQ/Vii0nX7MW4fcm",
      "include_colab_link": true
    },
    "kernelspec": {
      "name": "python3",
      "display_name": "Python 3"
    },
    "language_info": {
      "name": "python"
    }
  },
  "cells": [
    {
      "cell_type": "markdown",
      "metadata": {
        "id": "view-in-github",
        "colab_type": "text"
      },
      "source": [
        "<a href=\"https://colab.research.google.com/github/adhil456/Nm-phase-2/blob/main/Untitled8.ipynb\" target=\"_parent\"><img src=\"https://colab.research.google.com/assets/colab-badge.svg\" alt=\"Open In Colab\"/></a>"
      ]
    },
    {
      "cell_type": "code",
      "execution_count": 1,
      "metadata": {
        "colab": {
          "base_uri": "https://localhost:8080/"
        },
        "id": "stLczB_tAT1d",
        "outputId": "f72185df-8754-4ba4-9173-8bda7336ca19"
      },
      "outputs": [
        {
          "output_type": "stream",
          "name": "stderr",
          "text": [
            "[nltk_data] Downloading package stopwords to /root/nltk_data...\n",
            "[nltk_data]   Unzipping corpora/stopwords.zip.\n"
          ]
        },
        {
          "output_type": "stream",
          "name": "stdout",
          "text": [
            "Dataset created and saved. Shape: (5, 2)\n",
            "                                                text label\n",
            "0  Donald Trump sends out a tweet that shocks the...  FAKE\n",
            "1  Scientists discover a new species in the Amazo...  REAL\n",
            "2  BREAKING: Aliens have landed on Earth, says un...  FAKE\n",
            "3  The economy is growing steadily under new poli...  REAL\n",
            "4  Celebrity caught in scandal, but evidence is l...  FAKE\n",
            "\n",
            "Accuracy: 100.00%\n",
            "Confusion Matrix:\n",
            "[[1]]\n",
            "\n",
            "Prediction for custom news: REAL\n"
          ]
        },
        {
          "output_type": "stream",
          "name": "stderr",
          "text": [
            "/usr/local/lib/python3.11/dist-packages/sklearn/metrics/_classification.py:407: UserWarning: A single label was found in 'y_true' and 'y_pred'. For the confusion matrix to have the correct shape, use the 'labels' parameter to pass all known labels.\n",
            "  warnings.warn(\n"
          ]
        }
      ],
      "source": [
        "import pandas as pd\n",
        "import numpy as np\n",
        "from sklearn.model_selection import train_test_split\n",
        "from sklearn.feature_extraction.text import TfidfVectorizer\n",
        "from sklearn.linear_model import PassiveAggressiveClassifier\n",
        "from sklearn.metrics import accuracy_score, confusion_matrix\n",
        "import nltk\n",
        "import re\n",
        "import string\n",
        "\n",
        "# Ensure stopwords are downloaded\n",
        "nltk.download('stopwords')\n",
        "from nltk.corpus import stopwords\n",
        "\n",
        "# 1. Create and save sample dataset\n",
        "sample_data = {\n",
        "    'text': [\n",
        "        \"Donald Trump sends out a tweet that shocks the world.\",\n",
        "        \"Scientists discover a new species in the Amazon rainforest.\",\n",
        "        \"BREAKING: Aliens have landed on Earth, says unverified source.\",\n",
        "        \"The economy is growing steadily under new policies.\",\n",
        "        \"Celebrity caught in scandal, but evidence is lacking.\"\n",
        "    ],\n",
        "    'label': [\"FAKE\", \"REAL\", \"FAKE\", \"REAL\", \"FAKE\"]\n",
        "}\n",
        "df = pd.DataFrame(sample_data)\n",
        "df.to_csv('fake_or_real_news.csv', index=False)\n",
        "\n",
        "print(\"Dataset created and saved. Shape:\", df.shape)\n",
        "print(df.head())\n",
        "\n",
        "# 2. Preprocess the text\n",
        "def clean_text(text):\n",
        "    text = text.lower()\n",
        "    text = re.sub(r'https?://\\S+', '', text)\n",
        "    text = re.sub(r'@\\w+', '', text)\n",
        "    text = re.sub(r'#\\w+', '', text)\n",
        "    text = re.sub(r'\\d+', '', text)\n",
        "    text = text.translate(str.maketrans('', '', string.punctuation))\n",
        "    text = ' '.join([word for word in text.split() if word not in stopwords.words('english')])\n",
        "    return text\n",
        "\n",
        "df['text'] = df['text'].astype(str).apply(clean_text)\n",
        "\n",
        "# 3. Split the dataset\n",
        "X = df['text']\n",
        "y = df['label']\n",
        "X_train, X_test, y_train, y_test = train_test_split(X, y, test_size=0.2, random_state=7)\n",
        "\n",
        "# 4. TF-IDF Vectorization\n",
        "vectorizer = TfidfVectorizer(stop_words='english', max_df=0.7)\n",
        "tfidf_train = vectorizer.fit_transform(X_train)\n",
        "tfidf_test = vectorizer.transform(X_test)\n",
        "\n",
        "# 5. Model training\n",
        "model = PassiveAggressiveClassifier(max_iter=50)\n",
        "model.fit(tfidf_train, y_train)\n",
        "\n",
        "# 6. Predictions and evaluation\n",
        "y_pred = model.predict(tfidf_test)\n",
        "score = accuracy_score(y_test, y_pred)\n",
        "conf_matrix = confusion_matrix(y_test, y_pred)\n",
        "\n",
        "print(f\"\\nAccuracy: {score * 100:.2f}%\")\n",
        "print(\"Confusion Matrix:\")\n",
        "print(conf_matrix)\n",
        "\n",
        "# 7. Test on custom news\n",
        "def predict_news(news_text):\n",
        "    cleaned = clean_text(news_text)\n",
        "    vectorized = vectorizer.transform([cleaned])\n",
        "    prediction = model.predict(vectorized)\n",
        "    return prediction[0]\n",
        "\n",
        "# Example\n",
        "sample_news = \"The government just announced a new policy to support farmers.\"\n",
        "print(\"\\nPrediction for custom news:\", predict_news(sample_news))\n"
      ]
    }
  ]
}